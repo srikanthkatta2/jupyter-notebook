{
  "nbformat": 4,
  "nbformat_minor": 0,
  "metadata": {
    "colab": {
      "provenance": [],
      "gpuType": "T4"
    },
    "kernelspec": {
      "name": "python3",
      "display_name": "Python 3"
    },
    "language_info": {
      "name": "python"
    },
    "accelerator": "GPU"
  },
  "cells": [
    {
      "cell_type": "code",
      "source": [
        "import google.generativeai as genai\n",
        "from google.colab import userdata\n",
        "\n",
        "GOOGLE_API_KEY = userdata.get('Google_API_Key')\n",
        "genai.configure(api_key=GOOGLE_API_KEY)"
      ],
      "metadata": {
        "id": "F-IYWCddeBwO"
      },
      "execution_count": 6,
      "outputs": []
    },
    {
      "cell_type": "code",
      "execution_count": 7,
      "metadata": {
        "id": "ITRk9wGOZzlO"
      },
      "outputs": [],
      "source": [
        "import pathlib\n",
        "\n",
        "import textwrap\n",
        "\n",
        "from IPython.display import display, Markdown\n",
        "\n",
        "def to_markdown(text):\n",
        "\n",
        "  text = text.replace('•', '  *')\n",
        "\n",
        "  return Markdown(textwrap.indent(text, '> ', predicate=lambda _: True))"
      ]
    },
    {
      "cell_type": "code",
      "source": [
        "import PIL.Image\n",
        "img = PIL.Image.open(\"image1.jpg\")\n",
        "img\n",
        "model = genai.GenerativeModel('gemini-1.5-flash')\n",
        "response = model.generate_content([\"Write a short, engaging blog post based on this picture. It should include a description of the meal in the photo and talk about my journey meal prepping.\", img], stream=True)\n",
        "response.resolve()"
      ],
      "metadata": {
        "id": "ldEhwa-DZ1AW"
      },
      "execution_count": 11,
      "outputs": []
    },
    {
      "cell_type": "code",
      "source": [
        "import pathlib\n",
        "\n",
        "import textwrap\n",
        "\n",
        "from IPython.display import display, Markdown\n",
        "\n",
        "def to_markdown(text):\n",
        "\n",
        "  text = text.replace('•', '  *')\n",
        "\n",
        "  return Markdown(textwrap.indent(text, '> ', predicate=lambda _: True))"
      ],
      "metadata": {
        "id": "GjBY6pYtc61G"
      },
      "execution_count": 13,
      "outputs": []
    },
    {
      "cell_type": "code",
      "source": [
        "to_markdown(response.text)"
      ],
      "metadata": {
        "colab": {
          "base_uri": "https://localhost:8080/",
          "height": 402
        },
        "id": "3Y91mwExfPo6",
        "outputId": "0c4d6559-e64b-4d9f-8532-76dc19402672"
      },
      "execution_count": 14,
      "outputs": [
        {
          "output_type": "execute_result",
          "data": {
            "text/plain": [
              "<IPython.core.display.Markdown object>"
            ],
            "text/markdown": "> ## My Meal Prep Journey: From Chaos to Deliciously Organized Lunches!\n> \n> Look at these beauties!  These aren't just any takeout containers; these are my meticulously crafted, healthy lunch powerhouses for the week.  Each one is packed with fluffy white rice, tender slices of teriyaki chicken, vibrant orange and red bell peppers, and a generous helping of broccoli.  It's a flavor explosion that keeps me energized and satisfied without sacrificing my time or health.\n> \n> My meal prep journey hasn't always been this picture-perfect.  Let's just say my initial attempts were... less successful.  I started with grand plans, ambitious recipes, and a complete lack of organizational skills. The result? A chaotic kitchen, a mountain of dirty dishes, and usually, some sad leftovers wilting in the fridge.\n> \n> But I learned!  I discovered the power of planning.  Writing out my menu, making a comprehensive grocery list, and even timing my cooking steps, has made all the difference.  Now, Sundays are my sacred meal prep time, and it’s become strangely satisfying to see my fridge organized with healthy, delicious meals ready to go.  The feeling of grabbing a perfectly portioned container on a busy weekday morning is pure bliss!\n> \n> If you're thinking about starting your own meal prep journey, my advice is to start small, focus on simple recipes, and most importantly, don't be afraid to experiment.  Find what works best for your schedule and taste buds.  It's a game changer, and seeing my hard work transformed into these pretty lunch boxes is the ultimate reward.  Now, excuse me while I grab one for lunch!\n"
          },
          "metadata": {},
          "execution_count": 14
        }
      ]
    },
    {
      "cell_type": "code",
      "source": [
        "response = model.generate_content([\"Generate an accurate captionfor this image.\", img])\n",
        "print(response.text)"
      ],
      "metadata": {
        "colab": {
          "base_uri": "https://localhost:8080/",
          "height": 468
        },
        "id": "jS3LWMYCfgq-",
        "outputId": "74ba7722-4290-4129-ddee-67e3598446ab"
      },
      "execution_count": 15,
      "outputs": [
        {
          "output_type": "stream",
          "name": "stdout",
          "text": [
            "Here are a few caption options for the image of two containers of food:\n",
            "\n",
            "**Option 1 (Simple & Descriptive):**\n",
            "\n",
            "> Healthy and delicious meal prep!  Chicken and broccoli with rice.\n",
            "\n",
            "\n",
            "**Option 2 (More Engaging):**\n",
            "\n",
            "> Lunch goals!  These chicken and veggie bowls are packed with flavor and ready in minutes.  Perfect for a busy week. #mealprep #healthyfood #lunchideas\n",
            "\n",
            "\n",
            "**Option 3 (Focus on Ease):**\n",
            "\n",
            "> Easy weeknight dinners made simple.  Just grab and go! #mealprepsunday #healthylifestyle #convenientmeals\n",
            "\n",
            "\n",
            "**Option 4 (Question to Engage Audience):**\n",
            "\n",
            "> What's your favorite meal prep recipe?  This chicken and broccoli with rice is definitely a top contender for me!  #mealprepinspiration #healthymeals #foodie\n",
            "\n",
            "\n",
            "Choose the caption that best suits your intended audience and platform.\n",
            "\n"
          ]
        }
      ]
    },
    {
      "cell_type": "code",
      "source": [
        "from PIL import Image\n",
        "image_path = \"girl.jpg\"\n",
        "image = Image.open(image_path)\n",
        "response = model.generate_content([\"Describe this image in detail.\", image])\n",
        "print(response.text)"
      ],
      "metadata": {
        "colab": {
          "base_uri": "https://localhost:8080/",
          "height": 217
        },
        "id": "G1Z-s_sig7kH",
        "outputId": "bd1ccf4b-3cda-40ea-a9b9-c01241a0334a"
      },
      "execution_count": 16,
      "outputs": [
        {
          "output_type": "stream",
          "name": "stdout",
          "text": [
            "Here's a description of the image:\n",
            "\n",
            "Close-up view of a woman with shoulder-length, curly dark brown hair. \n",
            "\n",
            "\n",
            "She is light-skinned and has a friendly, approachable expression. Her smile is warm, and she's pointing to her side with her right index finger, suggesting she's indicating something off-camera or to the viewer's left. \n",
            "\n",
            "\n",
            "She's wearing a teal-colored three-quarter-sleeved top or tunic with a subtle, gold-colored pattern on it. The pattern appears to be small, repeating floral or paisley-like designs. The top has a modest, slightly open neckline. Her arms are crossed, with one arm over the other. The background is a plain, off-white or light gray, providing a clean contrast to her clothing and hair. The overall lighting is soft and even, typical of a studio portrait. The image suggests a promotional or advertising photograph, possibly for clothing or a service where the woman's friendly demeanor is a key element.\n",
            "\n"
          ]
        }
      ]
    },
    {
      "cell_type": "code",
      "source": [
        "response = model.generate_content([\"What emotions can you detect in this image?\", image])\n",
        "print(response.text)"
      ],
      "metadata": {
        "colab": {
          "base_uri": "https://localhost:8080/",
          "height": 181
        },
        "id": "2ErSjHgth1qp",
        "outputId": "23dc2a24-0b90-4d84-d2d8-66d7cf2ba9ab"
      },
      "execution_count": 18,
      "outputs": [
        {
          "output_type": "stream",
          "name": "stdout",
          "text": [
            "The woman in the image appears to be displaying a combination of emotions:\n",
            "\n",
            "* **Happiness/Contentment:** Her smile is genuine and relaxed, suggesting a positive emotional state.\n",
            "* **Helpfulness/Guidance:** Her pointing gesture indicates a willingness to assist or direct someone.  She looks approachable.\n",
            "* **Confidence:** Her posture and direct gaze convey self-assurance.\n",
            "\n",
            "It's difficult to definitively ascertain other emotions without more context.  However, the overall impression is one of positive and helpful engagement.\n",
            "\n"
          ]
        }
      ]
    },
    {
      "cell_type": "code",
      "source": [],
      "metadata": {
        "id": "jql0t1I1h_8N"
      },
      "execution_count": null,
      "outputs": []
    }
  ]
}