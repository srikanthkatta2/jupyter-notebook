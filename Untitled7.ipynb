{
 "cells": [
  {
   "cell_type": "code",
   "execution_count": 5,
   "id": "47eab97b-69d7-446f-aa20-cfa6164d82d5",
   "metadata": {},
   "outputs": [
    {
     "data": {
      "text/html": [
       "<div>\n",
       "<style scoped>\n",
       "    .dataframe tbody tr th:only-of-type {\n",
       "        vertical-align: middle;\n",
       "    }\n",
       "\n",
       "    .dataframe tbody tr th {\n",
       "        vertical-align: top;\n",
       "    }\n",
       "\n",
       "    .dataframe thead th {\n",
       "        text-align: right;\n",
       "    }\n",
       "</style>\n",
       "<table border=\"1\" class=\"dataframe\">\n",
       "  <thead>\n",
       "    <tr style=\"text-align: right;\">\n",
       "      <th></th>\n",
       "      <th>Id</th>\n",
       "      <th>ProductId</th>\n",
       "      <th>UserId</th>\n",
       "      <th>ProfileName</th>\n",
       "      <th>HelpfulnessNumerator</th>\n",
       "      <th>HelpfulnessDenominator</th>\n",
       "      <th>Score</th>\n",
       "      <th>Time</th>\n",
       "      <th>Summary</th>\n",
       "      <th>Text</th>\n",
       "    </tr>\n",
       "  </thead>\n",
       "  <tbody>\n",
       "    <tr>\n",
       "      <th>0</th>\n",
       "      <td>1</td>\n",
       "      <td>B001E4KFG0</td>\n",
       "      <td>A3SGXH7AUHU8GW</td>\n",
       "      <td>delmartian</td>\n",
       "      <td>1</td>\n",
       "      <td>1</td>\n",
       "      <td>5</td>\n",
       "      <td>1303862400</td>\n",
       "      <td>Good Quality Dog Food</td>\n",
       "      <td>I have bought several of the Vitality canned d...</td>\n",
       "    </tr>\n",
       "    <tr>\n",
       "      <th>1</th>\n",
       "      <td>2</td>\n",
       "      <td>B00813GRG4</td>\n",
       "      <td>A1D87F6ZCVE5NK</td>\n",
       "      <td>dll pa</td>\n",
       "      <td>0</td>\n",
       "      <td>0</td>\n",
       "      <td>1</td>\n",
       "      <td>1346976000</td>\n",
       "      <td>Not as Advertised</td>\n",
       "      <td>Product arrived labeled as Jumbo Salted Peanut...</td>\n",
       "    </tr>\n",
       "    <tr>\n",
       "      <th>2</th>\n",
       "      <td>3</td>\n",
       "      <td>B000LQOCH0</td>\n",
       "      <td>ABXLMWJIXXAIN</td>\n",
       "      <td>Natalia Corres \"Natalia Corres\"</td>\n",
       "      <td>1</td>\n",
       "      <td>1</td>\n",
       "      <td>4</td>\n",
       "      <td>1219017600</td>\n",
       "      <td>\"Delight\" says it all</td>\n",
       "      <td>This is a confection that has been around a fe...</td>\n",
       "    </tr>\n",
       "  </tbody>\n",
       "</table>\n",
       "</div>"
      ],
      "text/plain": [
       "   Id   ProductId          UserId                      ProfileName  \\\n",
       "0   1  B001E4KFG0  A3SGXH7AUHU8GW                       delmartian   \n",
       "1   2  B00813GRG4  A1D87F6ZCVE5NK                           dll pa   \n",
       "2   3  B000LQOCH0   ABXLMWJIXXAIN  Natalia Corres \"Natalia Corres\"   \n",
       "\n",
       "   HelpfulnessNumerator  HelpfulnessDenominator  Score        Time  \\\n",
       "0                     1                       1      5  1303862400   \n",
       "1                     0                       0      1  1346976000   \n",
       "2                     1                       1      4  1219017600   \n",
       "\n",
       "                 Summary                                               Text  \n",
       "0  Good Quality Dog Food  I have bought several of the Vitality canned d...  \n",
       "1      Not as Advertised  Product arrived labeled as Jumbo Salted Peanut...  \n",
       "2  \"Delight\" says it all  This is a confection that has been around a fe...  "
      ]
     },
     "execution_count": 5,
     "metadata": {},
     "output_type": "execute_result"
    }
   ],
   "source": [
    "import numpy as np\n",
    "import matplotlib.pyplot as plt\n",
    "import pandas as pd\n",
    "df=pd.read_csv('Reviews.csv', nrows=500)\n",
    "df.head(3)"
   ]
  },
  {
   "cell_type": "code",
   "execution_count": 7,
   "id": "df9d2fad-fc6d-454d-86bf-f0e8a90c3325",
   "metadata": {},
   "outputs": [
    {
     "name": "stdout",
     "output_type": "stream",
     "text": [
      "<class 'pandas.core.frame.DataFrame'>\n",
      "RangeIndex: 500 entries, 0 to 499\n",
      "Data columns (total 10 columns):\n",
      " #   Column                  Non-Null Count  Dtype \n",
      "---  ------                  --------------  ----- \n",
      " 0   Id                      500 non-null    int64 \n",
      " 1   ProductId               500 non-null    object\n",
      " 2   UserId                  500 non-null    object\n",
      " 3   ProfileName             500 non-null    object\n",
      " 4   HelpfulnessNumerator    500 non-null    int64 \n",
      " 5   HelpfulnessDenominator  500 non-null    int64 \n",
      " 6   Score                   500 non-null    int64 \n",
      " 7   Time                    500 non-null    int64 \n",
      " 8   Summary                 500 non-null    object\n",
      " 9   Text                    500 non-null    object\n",
      "dtypes: int64(5), object(5)\n",
      "memory usage: 39.2+ KB\n"
     ]
    }
   ],
   "source": [
    "df.info()"
   ]
  },
  {
   "cell_type": "code",
   "execution_count": 9,
   "id": "db0c4b66-8e7b-4d5b-9ee5-93b2bac6bc1b",
   "metadata": {},
   "outputs": [
    {
     "data": {
      "text/plain": [
       "0    I have bought several of the Vitality canned d...\n",
       "1    Product arrived labeled as Jumbo Salted Peanut...\n",
       "2    This is a confection that has been around a fe...\n",
       "3    If you are looking for the secret ingredient i...\n",
       "4    Great taffy at a great price.  There was a wid...\n",
       "Name: Text, dtype: object"
      ]
     },
     "execution_count": 9,
     "metadata": {},
     "output_type": "execute_result"
    }
   ],
   "source": [
    "df.Text.head()"
   ]
  },
  {
   "cell_type": "code",
   "execution_count": 11,
   "id": "d4e107d0-02bf-44ec-8263-ee13951a0006",
   "metadata": {},
   "outputs": [
    {
     "name": "stdout",
     "output_type": "stream",
     "text": [
      "Requirement already satisfied: textblob in c:\\users\\srikanth\\anaconda3\\lib\\site-packages (0.19.0)\n",
      "Requirement already satisfied: nltk>=3.9 in c:\\users\\srikanth\\anaconda3\\lib\\site-packages (from textblob) (3.9.1)\n",
      "Requirement already satisfied: click in c:\\users\\srikanth\\anaconda3\\lib\\site-packages (from nltk>=3.9->textblob) (8.1.7)\n",
      "Requirement already satisfied: joblib in c:\\users\\srikanth\\anaconda3\\lib\\site-packages (from nltk>=3.9->textblob) (1.4.2)\n",
      "Requirement already satisfied: regex>=2021.8.3 in c:\\users\\srikanth\\anaconda3\\lib\\site-packages (from nltk>=3.9->textblob) (2024.9.11)\n",
      "Requirement already satisfied: tqdm in c:\\users\\srikanth\\anaconda3\\lib\\site-packages (from nltk>=3.9->textblob) (4.66.5)\n",
      "Requirement already satisfied: colorama in c:\\users\\srikanth\\anaconda3\\lib\\site-packages (from click->nltk>=3.9->textblob) (0.4.6)\n"
     ]
    }
   ],
   "source": [
    "!pip install textblob"
   ]
  },
  {
   "cell_type": "code",
   "execution_count": null,
   "id": "ce9f2e91-948b-4d47-849b-e0b1d320aa0e",
   "metadata": {},
   "outputs": [
    {
     "name": "stderr",
     "output_type": "stream",
     "text": [
      "<>:7: SyntaxWarning: invalid escape sequence '\\w'\n",
      "<>:7: SyntaxWarning: invalid escape sequence '\\w'\n",
      "C:\\Users\\srikanth\\AppData\\Local\\Temp\\ipykernel_6332\\2041169402.py:7: SyntaxWarning: invalid escape sequence '\\w'\n",
      "  df['Text'] = df['Text'].str.replace('[^\\w\\s]',' ')\n"
     ]
    }
   ],
   "source": [
    "# Import libraries\n",
    "from nltk.corpus import stopwords\n",
    "from textblob import TextBlob\n",
    "from textblob import Word\n",
    "# Lower casing and removing punctuations\n",
    "df['Text'] = df['Text'].apply(lambda x: \" \".join(x.lower() for x in x.split()))\n",
    "df['Text'] = df['Text'].str.replace('[^\\w\\s]',' ')\n",
    "# Removal of stop words\n",
    "stop = stopwords.words('english')\n",
    "df['Text'] = df['Text'].apply(lambda x: \" \".join(x for x in x.split() if x not in stop))\n",
    "# Spelling correction\n",
    "df['Text'] = df['Text'].apply(lambda x: str(TextBlob(x).correct()))\n",
    "# Lemmatization\n",
    "df['Text'] = df['Text'].apply(lambda x: \" \".join([Word(word).lemmatize() for word in x.split()]))\n",
    "df.Text.head()"
   ]
  },
  {
   "cell_type": "code",
   "execution_count": null,
   "id": "00ab2717-2b91-48f7-930c-c428b5e6507b",
   "metadata": {},
   "outputs": [],
   "source": [
    "# Create a new data frame “reviews” to perform exploratory data analysis upon that\n",
    "reviews = df\n",
    "# Dropping null values\n",
    "reviews.dropna(inplace=True) \n",
    "# The histogram reveals this dataset is highly unbalanced towards high rating. \n",
    "reviews.Score.hist(bins=5,grid=False)\n",
    "plt.show()\n",
    "print(reviews.groupby('Score').count().Id)"
   ]
  },
  {
   "cell_type": "code",
   "execution_count": null,
   "id": "6b4343d1-296e-436a-81d6-00f1e1ea3d5f",
   "metadata": {},
   "outputs": [],
   "source": [
    "score_1 = reviews[reviews['Score'] == 1].sample(n=18)\n",
    "\n",
    "score_2 = reviews[reviews['Score'] == 2].sample(n=18)\n",
    "\n",
    "score_3 = reviews[reviews['Score'] == 3].sample(n=18)\n",
    "\n",
    "score_4 = reviews[reviews['Score'] == 4].sample(n=18)\n",
    "\n",
    "score_5 = reviews[reviews['Score'] == 5].sample(n=18)"
   ]
  },
  {
   "cell_type": "code",
   "execution_count": null,
   "id": "535ee330-0baf-4d60-8b93-e9649f1ebf2c",
   "metadata": {},
   "outputs": [],
   "source": [
    "# Here we recreate a 'balanced' dataset.\n",
    "reviews_sample = pd.concat([score_1,score_2,score_3,score_4,score_5],axis=0)\n",
    "reviews_sample.reset_index(drop=True,inplace=True)\n",
    "# Printing count by 'Score' to check dataset is now balanced.\n",
    "print(reviews_sample.groupby('Score').count().Id)"
   ]
  },
  {
   "cell_type": "code",
   "execution_count": null,
   "id": "6494f0e3-e9f2-4371-b49e-14100af0b47c",
   "metadata": {},
   "outputs": [],
   "source": [
    "# Let's build a word cloud looking at the 'Summary'  text\n",
    "\n",
    "from wordcloud import WordCloud\n",
    "\n",
    " \n",
    "\n",
    "reviews_str = \" \".join(reviews_sample[\"Summary\"].to_numpy())\n",
    "\n",
    " \n",
    "\n",
    "#reviews_str = reviews_sample.Summary.str.cat()\n",
    "\n",
    " \n",
    "\n",
    "wordcloud = WordCloud(background_color='white').generate(reviews_str)\n",
    "\n",
    "plt.figure(figsize=(10,10))\n",
    "\n",
    "plt.imshow(wordcloud,interpolation='bilinear')\n",
    "\n",
    "plt.axis(\"off\")\n",
    "\n",
    "plt.show()"
   ]
  },
  {
   "cell_type": "code",
   "execution_count": null,
   "id": "c560d090-d860-4377-9bd8-2965681a2d7d",
   "metadata": {},
   "outputs": [],
   "source": []
  }
 ],
 "metadata": {
  "kernelspec": {
   "display_name": "Python [conda env:base] *",
   "language": "python",
   "name": "conda-base-py"
  },
  "language_info": {
   "codemirror_mode": {
    "name": "ipython",
    "version": 3
   },
   "file_extension": ".py",
   "mimetype": "text/x-python",
   "name": "python",
   "nbconvert_exporter": "python",
   "pygments_lexer": "ipython3",
   "version": "3.12.7"
  }
 },
 "nbformat": 4,
 "nbformat_minor": 5
}
