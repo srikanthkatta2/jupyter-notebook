{
 "cells": [
  {
   "cell_type": "code",
   "execution_count": 1,
   "id": "bf429015-88b7-4f67-9f91-76ccbe782301",
   "metadata": {},
   "outputs": [
    {
     "name": "stdout",
     "output_type": "stream",
     "text": [
      "Collecting gTTS\n",
      "  Downloading gTTS-2.5.4-py3-none-any.whl.metadata (4.1 kB)\n",
      "Requirement already satisfied: requests<3,>=2.27 in c:\\users\\srikanth\\anaconda3\\lib\\site-packages (from gTTS) (2.32.3)\n",
      "Requirement already satisfied: click<8.2,>=7.1 in c:\\users\\srikanth\\anaconda3\\lib\\site-packages (from gTTS) (8.1.7)\n",
      "Requirement already satisfied: colorama in c:\\users\\srikanth\\anaconda3\\lib\\site-packages (from click<8.2,>=7.1->gTTS) (0.4.6)\n",
      "Requirement already satisfied: charset-normalizer<4,>=2 in c:\\users\\srikanth\\anaconda3\\lib\\site-packages (from requests<3,>=2.27->gTTS) (3.3.2)\n",
      "Requirement already satisfied: idna<4,>=2.5 in c:\\users\\srikanth\\anaconda3\\lib\\site-packages (from requests<3,>=2.27->gTTS) (3.7)\n",
      "Requirement already satisfied: urllib3<3,>=1.21.1 in c:\\users\\srikanth\\anaconda3\\lib\\site-packages (from requests<3,>=2.27->gTTS) (2.2.3)\n",
      "Requirement already satisfied: certifi>=2017.4.17 in c:\\users\\srikanth\\anaconda3\\lib\\site-packages (from requests<3,>=2.27->gTTS) (2024.12.14)\n",
      "Downloading gTTS-2.5.4-py3-none-any.whl (29 kB)\n",
      "Installing collected packages: gTTS\n",
      "Successfully installed gTTS-2.5.4\n",
      "Note: you may need to restart the kernel to use updated packages.\n"
     ]
    }
   ],
   "source": [
    "pip install gTTS"
   ]
  },
  {
   "cell_type": "code",
   "execution_count": 3,
   "id": "45cf4b93-0f78-4882-b2eb-9bd516a2cc96",
   "metadata": {},
   "outputs": [],
   "source": [
    "from gtts import gTTS"
   ]
  },
  {
   "cell_type": "code",
   "execution_count": 5,
   "id": "eae982ea-003c-485e-b23c-9012b52c99a1",
   "metadata": {},
   "outputs": [],
   "source": [
    "#chooses the language, English('en')\n",
    "convert = gTTS(text='I like this NLP. How about dude!', lang=\"en\", slow=False)\n",
    "# Saving the converted audio in a mp3 file named\n",
    "convert.save(\"audio.mp3\")"
   ]
  },
  {
   "cell_type": "code",
   "execution_count": 7,
   "id": "cd9aa4c4-89ed-4ef1-9ce8-9bcff01f0bbf",
   "metadata": {},
   "outputs": [
    {
     "name": "stdout",
     "output_type": "stream",
     "text": [
      "Collecting pyttsx3\n",
      "  Downloading pyttsx3-2.98-py3-none-any.whl.metadata (3.8 kB)\n",
      "Collecting comtypes (from pyttsx3)\n",
      "  Downloading comtypes-1.4.10-py3-none-any.whl.metadata (7.2 kB)\n",
      "Collecting pypiwin32 (from pyttsx3)\n",
      "  Downloading pypiwin32-223-py3-none-any.whl.metadata (236 bytes)\n",
      "Requirement already satisfied: pywin32 in c:\\users\\srikanth\\anaconda3\\lib\\site-packages (from pyttsx3) (305.1)\n",
      "Downloading pyttsx3-2.98-py3-none-any.whl (34 kB)\n",
      "Downloading comtypes-1.4.10-py3-none-any.whl (241 kB)\n",
      "Downloading pypiwin32-223-py3-none-any.whl (1.7 kB)\n",
      "Installing collected packages: pypiwin32, comtypes, pyttsx3\n",
      "Successfully installed comtypes-1.4.10 pypiwin32-223 pyttsx3-2.98\n"
     ]
    }
   ],
   "source": [
    "!pip3 install pyttsx3"
   ]
  },
  {
   "cell_type": "code",
   "execution_count": 9,
   "id": "27cf41dc-f7da-423a-ac20-a3e98b7bc5fa",
   "metadata": {},
   "outputs": [],
   "source": [
    "#pip3 install pyttsx3\n",
    "\n",
    "#apt-get install alsa-utils\n",
    "\n",
    "import pyttsx3, time \n",
    "\n",
    "engine = pyttsx3.init() \n",
    "\n",
    "engine.say(\"Hi, I am text to speach\") \n",
    "\n",
    "engine.runAndWait()"
   ]
  },
  {
   "cell_type": "code",
   "execution_count": 11,
   "id": "900b6c6d-d281-460e-b68e-a16ea0c91049",
   "metadata": {},
   "outputs": [],
   "source": [
    "text=['This is introduction to NLP','It is likely to be useful, to people ',\\\n",
    "      'Machine learning is the new electrcity','There would be less hype around AI and more action going forward',\\\n",
    "      'python is the best tool!','R is good langauage','I like this book',\\\n",
    "      'I want more books like this']"
   ]
  },
  {
   "cell_type": "code",
   "execution_count": 13,
   "id": "e170dec7-62f6-4fbb-804f-a0fd09472748",
   "metadata": {},
   "outputs": [],
   "source": [
    "engine = pyttsx3.init() \n",
    "engine.say(text) \n",
    "engine.runAndWait()"
   ]
  },
  {
   "cell_type": "code",
   "execution_count": 15,
   "id": "467e4b88-183f-4049-bb9a-7d846c8b67a8",
   "metadata": {},
   "outputs": [
    {
     "name": "stdout",
     "output_type": "stream",
     "text": [
      "200\n",
      "1.0\n"
     ]
    }
   ],
   "source": [
    "import pyttsx3\n",
    "engine = pyttsx3.init() # object creation\n",
    "\"\"\" RATE\"\"\"\n",
    "rate = engine.getProperty('rate')   # getting details of current speaking rate\n",
    "print (rate)                        #printing current voice rate\n",
    "engine.setProperty('rate', 150)     # setting up new voice rate\n",
    "\"\"\"VOLUME\"\"\"\n",
    "volume = engine.getProperty('volume')   #getting to know current volume level (min=0 and max=1)\n",
    "print (volume)                          #printing current volume level\n",
    "engine.setProperty('volume',1.0)    # setting up volume level  between 0 and 1\n",
    "\"\"\"VOICE\"\"\"\n",
    "voices = engine.getProperty('voices')       #getting details of current voice\n",
    "#engine.setProperty('voice', voices[0].id)  #changing index, changes voices. o for male\n",
    "engine.setProperty('voice', voices[1].id)   #changing index, changes voices. 1 for female\n",
    "engine.say(\"Hello World!\")\n",
    "engine.say('My current speaking rate is ' + str(rate))\n",
    "engine.say('My current speaking volume is ' + str(volume))\n",
    "engine.runAndWait()\n",
    "engine.stop()"
   ]
  },
  {
   "cell_type": "code",
   "execution_count": 17,
   "id": "2c48d09d-5057-494f-9a82-9c9e08fd9988",
   "metadata": {},
   "outputs": [
    {
     "name": "stdout",
     "output_type": "stream",
     "text": [
      "Collecting goslate\n",
      "  Downloading goslate-1.5.4.tar.gz (14 kB)\n",
      "  Preparing metadata (setup.py): started\n",
      "  Preparing metadata (setup.py): finished with status 'done'\n",
      "Collecting futures (from goslate)\n",
      "  Downloading futures-3.0.5.tar.gz (25 kB)\n",
      "  Preparing metadata (setup.py): started\n",
      "  Preparing metadata (setup.py): finished with status 'done'\n",
      "Building wheels for collected packages: goslate, futures\n",
      "  Building wheel for goslate (setup.py): started\n",
      "  Building wheel for goslate (setup.py): finished with status 'done'\n",
      "  Created wheel for goslate: filename=goslate-1.5.4-py3-none-any.whl size=11628 sha256=71e49d78e1161f78952cbb979029f9aee8e0cde684c3eab3ace87622597f58d4\n",
      "  Stored in directory: c:\\users\\srikanth\\appdata\\local\\pip\\cache\\wheels\\bc\\54\\a5\\e2e504b0fd04ca038ae401212af643fb056eeabdcf42b16775\n",
      "  Building wheel for futures (setup.py): started\n",
      "  Building wheel for futures (setup.py): finished with status 'done'\n",
      "  Created wheel for futures: filename=futures-3.0.5-py3-none-any.whl size=14081 sha256=f296ee218dfdc4eed4a6c41e1be41520a29ee0518bb9b4b1695e93c52345c75e\n",
      "  Stored in directory: c:\\users\\srikanth\\appdata\\local\\pip\\cache\\wheels\\4e\\fb\\0a\\e384a2d8f43aec14d63fdd277e546431a86435354ff701f1ee\n",
      "Successfully built goslate futures\n",
      "Installing collected packages: futures, goslate\n",
      "Successfully installed futures-3.0.5 goslate-1.5.4\n"
     ]
    }
   ],
   "source": [
    "!pip install goslate"
   ]
  },
  {
   "cell_type": "code",
   "execution_count": 19,
   "id": "babff6a0-8b78-4a37-b275-f00e1a348833",
   "metadata": {},
   "outputs": [],
   "source": [
    "text = \"Bonjour le monde\""
   ]
  },
  {
   "cell_type": "code",
   "execution_count": 21,
   "id": "3cb1e3ff-c879-483f-b1f6-3c3b3d54a228",
   "metadata": {},
   "outputs": [],
   "source": [
    "import goslate"
   ]
  },
  {
   "cell_type": "code",
   "execution_count": 25,
   "id": "b8abc0be-93c2-46f6-83cd-f9df6c265c37",
   "metadata": {},
   "outputs": [
    {
     "name": "stdout",
     "output_type": "stream",
     "text": [
      "హలో వరల్డ్\n"
     ]
    }
   ],
   "source": [
    "gs = goslate.Goslate()\n",
    "translatedText = gs.translate(text,'te')\n",
    "print(translatedText)"
   ]
  },
  {
   "cell_type": "code",
   "execution_count": 27,
   "id": "ffca4ffd-abb3-4f70-95f3-7c5a5094308b",
   "metadata": {},
   "outputs": [
    {
     "name": "stdout",
     "output_type": "stream",
     "text": [
      "Collecting translate\n",
      "  Downloading translate-3.6.1-py2.py3-none-any.whl.metadata (7.7 kB)\n",
      "Requirement already satisfied: click in c:\\users\\srikanth\\anaconda3\\lib\\site-packages (from translate) (8.1.7)\n",
      "Requirement already satisfied: lxml in c:\\users\\srikanth\\anaconda3\\lib\\site-packages (from translate) (5.3.1)\n",
      "Requirement already satisfied: requests in c:\\users\\srikanth\\anaconda3\\lib\\site-packages (from translate) (2.32.3)\n",
      "Collecting libretranslatepy==2.1.1 (from translate)\n",
      "  Downloading libretranslatepy-2.1.1-py3-none-any.whl.metadata (233 bytes)\n",
      "Requirement already satisfied: colorama in c:\\users\\srikanth\\anaconda3\\lib\\site-packages (from click->translate) (0.4.6)\n",
      "Requirement already satisfied: charset-normalizer<4,>=2 in c:\\users\\srikanth\\anaconda3\\lib\\site-packages (from requests->translate) (3.3.2)\n",
      "Requirement already satisfied: idna<4,>=2.5 in c:\\users\\srikanth\\anaconda3\\lib\\site-packages (from requests->translate) (3.7)\n",
      "Requirement already satisfied: urllib3<3,>=1.21.1 in c:\\users\\srikanth\\anaconda3\\lib\\site-packages (from requests->translate) (2.2.3)\n",
      "Requirement already satisfied: certifi>=2017.4.17 in c:\\users\\srikanth\\anaconda3\\lib\\site-packages (from requests->translate) (2024.12.14)\n",
      "Downloading translate-3.6.1-py2.py3-none-any.whl (12 kB)\n",
      "Downloading libretranslatepy-2.1.1-py3-none-any.whl (3.2 kB)\n",
      "Installing collected packages: libretranslatepy, translate\n",
      "Successfully installed libretranslatepy-2.1.1 translate-3.6.1\n"
     ]
    }
   ],
   "source": [
    "!pip install translate"
   ]
  },
  {
   "cell_type": "code",
   "execution_count": 33,
   "id": "a841f977-749e-4091-b585-c2f1d43af16b",
   "metadata": {},
   "outputs": [
    {
     "data": {
      "text/plain": [
       "'ఎలా ఉనారు ?'"
      ]
     },
     "execution_count": 33,
     "metadata": {},
     "output_type": "execute_result"
    }
   ],
   "source": [
    "# # traslating text to telugu\n",
    "from translate import Translator\n",
    "translator= Translator(to_lang=\"te\")\n",
    "translation = translator.translate(\"How are you?\")\n",
    "translation"
   ]
  },
  {
   "cell_type": "code",
   "execution_count": 31,
   "id": "531628e3-7d63-4afe-b777-49c558dcb840",
   "metadata": {},
   "outputs": [
    {
     "data": {
      "text/plain": [
       "'कशी आहेस?'"
      ]
     },
     "execution_count": 31,
     "metadata": {},
     "output_type": "execute_result"
    }
   ],
   "source": [
    "# # traslating text to marathi\n",
    "from translate import Translator\n",
    "translator= Translator(to_lang=\"mr\")\n",
    "translation = translator.translate(\"How are you?\")\n",
    "translation"
   ]
  },
  {
   "cell_type": "code",
   "execution_count": 41,
   "id": "6b397653-3f27-4617-a256-8007df937c06",
   "metadata": {},
   "outputs": [],
   "source": [
    "import goslate"
   ]
  },
  {
   "cell_type": "code",
   "execution_count": 43,
   "id": "555df2b3-8b98-4a24-973a-f3d0215a5e81",
   "metadata": {},
   "outputs": [
    {
     "name": "stdout",
     "output_type": "stream",
     "text": [
      "Collecting SpeechRecognition\n",
      "  Downloading SpeechRecognition-3.14.1-py3-none-any.whl.metadata (31 kB)\n",
      "Requirement already satisfied: typing-extensions in c:\\users\\srikanth\\anaconda3\\lib\\site-packages (from SpeechRecognition) (4.11.0)\n",
      "Downloading SpeechRecognition-3.14.1-py3-none-any.whl (32.9 MB)\n",
      "   ---------------------------------------- 0.0/32.9 MB ? eta -:--:--\n",
      "   ---------------------------------------- 0.0/32.9 MB ? eta -:--:--\n",
      "   ---------------------------------------- 0.0/32.9 MB ? eta -:--:--\n",
      "   ---------------------------------------- 0.3/32.9 MB ? eta -:--:--\n",
      "   ---------------------------------------- 0.3/32.9 MB ? eta -:--:--\n",
      "   ---------------------------------------- 0.3/32.9 MB ? eta -:--:--\n",
      "    --------------------------------------- 0.5/32.9 MB 466.4 kB/s eta 0:01:10\n",
      "    --------------------------------------- 0.5/32.9 MB 466.4 kB/s eta 0:01:10\n",
      "    --------------------------------------- 0.8/32.9 MB 508.5 kB/s eta 0:01:04\n",
      "   - -------------------------------------- 1.0/32.9 MB 629.1 kB/s eta 0:00:51\n",
      "   - -------------------------------------- 1.3/32.9 MB 721.7 kB/s eta 0:00:44\n",
      "   - -------------------------------------- 1.3/32.9 MB 721.7 kB/s eta 0:00:44\n",
      "   - -------------------------------------- 1.6/32.9 MB 671.1 kB/s eta 0:00:47\n",
      "   - -------------------------------------- 1.6/32.9 MB 671.1 kB/s eta 0:00:47\n",
      "   -- ------------------------------------- 1.8/32.9 MB 704.1 kB/s eta 0:00:45\n",
      "   -- ------------------------------------- 2.1/32.9 MB 738.7 kB/s eta 0:00:42\n",
      "   -- ------------------------------------- 2.4/32.9 MB 789.6 kB/s eta 0:00:39\n",
      "   --- ------------------------------------ 2.6/32.9 MB 803.3 kB/s eta 0:00:38\n",
      "   --- ------------------------------------ 2.9/32.9 MB 843.2 kB/s eta 0:00:36\n",
      "   --- ------------------------------------ 3.1/32.9 MB 878.9 kB/s eta 0:00:34\n",
      "   ---- ----------------------------------- 3.7/32.9 MB 920.3 kB/s eta 0:00:32\n",
      "   ---- ----------------------------------- 3.7/32.9 MB 920.3 kB/s eta 0:00:32\n",
      "   ---- ----------------------------------- 3.7/32.9 MB 920.3 kB/s eta 0:00:32\n",
      "   ---- ----------------------------------- 3.9/32.9 MB 854.1 kB/s eta 0:00:34\n",
      "   ---- ----------------------------------- 3.9/32.9 MB 854.1 kB/s eta 0:00:34\n",
      "   ---- ----------------------------------- 3.9/32.9 MB 854.1 kB/s eta 0:00:34\n",
      "   ----- ---------------------------------- 4.2/32.9 MB 806.6 kB/s eta 0:00:36\n",
      "   ----- ---------------------------------- 4.2/32.9 MB 806.6 kB/s eta 0:00:36\n",
      "   ----- ---------------------------------- 4.5/32.9 MB 787.2 kB/s eta 0:00:37\n",
      "   ----- ---------------------------------- 4.7/32.9 MB 810.3 kB/s eta 0:00:35\n",
      "   ------ --------------------------------- 5.0/32.9 MB 820.6 kB/s eta 0:00:34\n",
      "   ------ --------------------------------- 5.5/32.9 MB 862.6 kB/s eta 0:00:32\n",
      "   ------- -------------------------------- 5.8/32.9 MB 887.5 kB/s eta 0:00:31\n",
      "   ------- -------------------------------- 6.3/32.9 MB 925.5 kB/s eta 0:00:29\n",
      "   ------- -------------------------------- 6.6/32.9 MB 940.8 kB/s eta 0:00:28\n",
      "   -------- ------------------------------- 6.8/32.9 MB 959.8 kB/s eta 0:00:28\n",
      "   -------- ------------------------------- 7.3/32.9 MB 989.1 kB/s eta 0:00:26\n",
      "   -------- ------------------------------- 7.3/32.9 MB 989.1 kB/s eta 0:00:26\n",
      "   --------- ------------------------------ 7.6/32.9 MB 995.3 kB/s eta 0:00:26\n",
      "   --------- ------------------------------ 8.1/32.9 MB 1.0 MB/s eta 0:00:25\n",
      "   ---------- ----------------------------- 8.7/32.9 MB 1.1 MB/s eta 0:00:24\n",
      "   ----------- ---------------------------- 9.2/32.9 MB 1.1 MB/s eta 0:00:22\n",
      "   ----------- ---------------------------- 9.7/32.9 MB 1.1 MB/s eta 0:00:21\n",
      "   ------------ --------------------------- 10.5/32.9 MB 1.2 MB/s eta 0:00:19\n",
      "   ------------- -------------------------- 10.7/32.9 MB 1.2 MB/s eta 0:00:19\n",
      "   -------------- ------------------------- 11.5/32.9 MB 1.3 MB/s eta 0:00:17\n",
      "   -------------- ------------------------- 11.5/32.9 MB 1.3 MB/s eta 0:00:17\n",
      "   -------------- ------------------------- 12.1/32.9 MB 1.2 MB/s eta 0:00:17\n",
      "   -------------- ------------------------- 12.1/32.9 MB 1.2 MB/s eta 0:00:17\n",
      "   -------------- ------------------------- 12.1/32.9 MB 1.2 MB/s eta 0:00:17\n",
      "   --------------- ------------------------ 12.3/32.9 MB 1.2 MB/s eta 0:00:18\n",
      "   --------------- ------------------------ 12.3/32.9 MB 1.2 MB/s eta 0:00:18\n",
      "   --------------- ------------------------ 12.3/32.9 MB 1.2 MB/s eta 0:00:18\n",
      "   --------------- ------------------------ 12.8/32.9 MB 1.2 MB/s eta 0:00:18\n",
      "   --------------- ------------------------ 12.8/32.9 MB 1.2 MB/s eta 0:00:18\n",
      "   --------------- ------------------------ 12.8/32.9 MB 1.2 MB/s eta 0:00:18\n",
      "   --------------- ------------------------ 12.8/32.9 MB 1.2 MB/s eta 0:00:18\n",
      "   --------------- ------------------------ 12.8/32.9 MB 1.2 MB/s eta 0:00:18\n",
      "   --------------- ------------------------ 12.8/32.9 MB 1.2 MB/s eta 0:00:18\n",
      "   --------------- ------------------------ 12.8/32.9 MB 1.2 MB/s eta 0:00:18\n",
      "   ---------------- ----------------------- 13.4/32.9 MB 1.1 MB/s eta 0:00:19\n",
      "   ---------------- ----------------------- 13.6/32.9 MB 1.1 MB/s eta 0:00:18\n",
      "   ---------------- ----------------------- 13.6/32.9 MB 1.1 MB/s eta 0:00:18\n",
      "   ---------------- ----------------------- 13.9/32.9 MB 1.1 MB/s eta 0:00:18\n",
      "   ----------------- ---------------------- 14.4/32.9 MB 1.1 MB/s eta 0:00:18\n",
      "   ----------------- ---------------------- 14.4/32.9 MB 1.1 MB/s eta 0:00:18\n",
      "   ----------------- ---------------------- 14.7/32.9 MB 1.1 MB/s eta 0:00:17\n",
      "   ------------------ --------------------- 14.9/32.9 MB 1.1 MB/s eta 0:00:17\n",
      "   ------------------ --------------------- 14.9/32.9 MB 1.1 MB/s eta 0:00:17\n",
      "   ------------------ --------------------- 14.9/32.9 MB 1.1 MB/s eta 0:00:17\n",
      "   ------------------ --------------------- 14.9/32.9 MB 1.1 MB/s eta 0:00:17\n",
      "   ------------------ --------------------- 15.2/32.9 MB 1.0 MB/s eta 0:00:18\n",
      "   ------------------ --------------------- 15.2/32.9 MB 1.0 MB/s eta 0:00:18\n",
      "   ------------------ --------------------- 15.5/32.9 MB 1.0 MB/s eta 0:00:18\n",
      "   ------------------- -------------------- 15.7/32.9 MB 1.0 MB/s eta 0:00:17\n",
      "   ------------------- -------------------- 16.0/32.9 MB 1.0 MB/s eta 0:00:17\n",
      "   ------------------- -------------------- 16.0/32.9 MB 1.0 MB/s eta 0:00:17\n",
      "   ------------------- -------------------- 16.0/32.9 MB 1.0 MB/s eta 0:00:17\n",
      "   ------------------- -------------------- 16.0/32.9 MB 1.0 MB/s eta 0:00:17\n",
      "   ------------------- -------------------- 16.0/32.9 MB 1.0 MB/s eta 0:00:17\n",
      "   ------------------- -------------------- 16.0/32.9 MB 1.0 MB/s eta 0:00:17\n",
      "   ------------------- -------------------- 16.0/32.9 MB 1.0 MB/s eta 0:00:17\n",
      "   ------------------- -------------------- 16.0/32.9 MB 1.0 MB/s eta 0:00:17\n",
      "   ------------------- -------------------- 16.0/32.9 MB 1.0 MB/s eta 0:00:17\n",
      "   ------------------- -------------------- 16.0/32.9 MB 1.0 MB/s eta 0:00:17\n",
      "   ------------------- -------------------- 16.0/32.9 MB 1.0 MB/s eta 0:00:17\n",
      "   ------------------- -------------------- 16.0/32.9 MB 1.0 MB/s eta 0:00:17\n",
      "   ------------------- -------------------- 16.0/32.9 MB 1.0 MB/s eta 0:00:17\n",
      "   ------------------- -------------------- 16.0/32.9 MB 1.0 MB/s eta 0:00:17\n",
      "   ------------------- -------------------- 16.0/32.9 MB 1.0 MB/s eta 0:00:17\n",
      "   ------------------- -------------------- 16.3/32.9 MB 861.5 kB/s eta 0:00:20\n",
      "   ------------------- -------------------- 16.3/32.9 MB 861.5 kB/s eta 0:00:20\n",
      "   ------------------- -------------------- 16.3/32.9 MB 861.5 kB/s eta 0:00:20\n",
      "   ------------------- -------------------- 16.3/32.9 MB 861.5 kB/s eta 0:00:20\n",
      "   ------------------- -------------------- 16.3/32.9 MB 861.5 kB/s eta 0:00:20\n",
      "   ------------------- -------------------- 16.3/32.9 MB 861.5 kB/s eta 0:00:20\n",
      "   -------------------- ------------------- 16.5/32.9 MB 812.0 kB/s eta 0:00:21\n",
      "   -------------------- ------------------- 16.5/32.9 MB 812.0 kB/s eta 0:00:21\n",
      "   -------------------- ------------------- 16.5/32.9 MB 812.0 kB/s eta 0:00:21\n",
      "   -------------------- ------------------- 16.5/32.9 MB 812.0 kB/s eta 0:00:21\n",
      "   -------------------- ------------------- 16.5/32.9 MB 812.0 kB/s eta 0:00:21\n",
      "   -------------------- ------------------- 16.5/32.9 MB 812.0 kB/s eta 0:00:21\n",
      "   -------------------- ------------------- 16.5/32.9 MB 812.0 kB/s eta 0:00:21\n",
      "   -------------------- ------------------- 16.5/32.9 MB 812.0 kB/s eta 0:00:21\n",
      "   -------------------- ------------------- 16.5/32.9 MB 812.0 kB/s eta 0:00:21\n",
      "   -------------------- ------------------- 16.5/32.9 MB 812.0 kB/s eta 0:00:21\n",
      "   -------------------- ------------------- 16.5/32.9 MB 812.0 kB/s eta 0:00:21\n",
      "   -------------------- ------------------- 16.8/32.9 MB 739.7 kB/s eta 0:00:22\n",
      "   -------------------- ------------------- 16.8/32.9 MB 739.7 kB/s eta 0:00:22\n",
      "   -------------------- ------------------- 16.8/32.9 MB 739.7 kB/s eta 0:00:22\n",
      "   -------------------- ------------------- 16.8/32.9 MB 739.7 kB/s eta 0:00:22\n",
      "   -------------------- ------------------- 16.8/32.9 MB 739.7 kB/s eta 0:00:22\n",
      "   -------------------- ------------------- 17.0/32.9 MB 718.7 kB/s eta 0:00:23\n",
      "   -------------------- ------------------- 17.0/32.9 MB 718.7 kB/s eta 0:00:23\n",
      "   --------------------- ------------------ 17.3/32.9 MB 713.7 kB/s eta 0:00:22\n",
      "   --------------------- ------------------ 17.3/32.9 MB 713.7 kB/s eta 0:00:22\n",
      "   --------------------- ------------------ 17.6/32.9 MB 711.6 kB/s eta 0:00:22\n",
      "   --------------------- ------------------ 17.6/32.9 MB 711.6 kB/s eta 0:00:22\n",
      "   --------------------- ------------------ 17.8/32.9 MB 711.9 kB/s eta 0:00:22\n",
      "   --------------------- ------------------ 17.8/32.9 MB 711.9 kB/s eta 0:00:22\n",
      "   --------------------- ------------------ 17.8/32.9 MB 711.9 kB/s eta 0:00:22\n",
      "   ---------------------- ----------------- 18.1/32.9 MB 702.5 kB/s eta 0:00:22\n",
      "   ---------------------- ----------------- 18.1/32.9 MB 702.5 kB/s eta 0:00:22\n",
      "   ---------------------- ----------------- 18.1/32.9 MB 702.5 kB/s eta 0:00:22\n",
      "   ---------------------- ----------------- 18.4/32.9 MB 695.7 kB/s eta 0:00:21\n",
      "   ---------------------- ----------------- 18.4/32.9 MB 695.7 kB/s eta 0:00:21\n",
      "   ---------------------- ----------------- 18.4/32.9 MB 695.7 kB/s eta 0:00:21\n",
      "   ---------------------- ----------------- 18.4/32.9 MB 695.7 kB/s eta 0:00:21\n",
      "   ---------------------- ----------------- 18.4/32.9 MB 695.7 kB/s eta 0:00:21\n",
      "   ---------------------- ----------------- 18.4/32.9 MB 695.7 kB/s eta 0:00:21\n",
      "   ---------------------- ----------------- 18.4/32.9 MB 695.7 kB/s eta 0:00:21\n",
      "   ---------------------- ----------------- 18.6/32.9 MB 666.9 kB/s eta 0:00:22\n",
      "   ---------------------- ----------------- 18.6/32.9 MB 666.9 kB/s eta 0:00:22\n",
      "   ---------------------- ----------------- 18.6/32.9 MB 666.9 kB/s eta 0:00:22\n",
      "   ---------------------- ----------------- 18.9/32.9 MB 658.8 kB/s eta 0:00:22\n",
      "   ---------------------- ----------------- 18.9/32.9 MB 658.8 kB/s eta 0:00:22\n",
      "   ---------------------- ----------------- 18.9/32.9 MB 658.8 kB/s eta 0:00:22\n",
      "   ----------------------- ---------------- 19.1/32.9 MB 655.4 kB/s eta 0:00:21\n",
      "   ----------------------- ---------------- 19.1/32.9 MB 655.4 kB/s eta 0:00:21\n",
      "   ----------------------- ---------------- 19.1/32.9 MB 655.4 kB/s eta 0:00:21\n",
      "   ----------------------- ---------------- 19.1/32.9 MB 655.4 kB/s eta 0:00:21\n",
      "   ----------------------- ---------------- 19.4/32.9 MB 647.0 kB/s eta 0:00:21\n",
      "   ----------------------- ---------------- 19.4/32.9 MB 647.0 kB/s eta 0:00:21\n",
      "   ----------------------- ---------------- 19.4/32.9 MB 647.0 kB/s eta 0:00:21\n",
      "   ----------------------- ---------------- 19.7/32.9 MB 642.2 kB/s eta 0:00:21\n",
      "   ----------------------- ---------------- 19.7/32.9 MB 642.2 kB/s eta 0:00:21\n",
      "   ----------------------- ---------------- 19.7/32.9 MB 642.2 kB/s eta 0:00:21\n",
      "   ------------------------ --------------- 19.9/32.9 MB 638.2 kB/s eta 0:00:21\n",
      "   ------------------------ --------------- 19.9/32.9 MB 638.2 kB/s eta 0:00:21\n",
      "   ------------------------ --------------- 20.2/32.9 MB 631.8 kB/s eta 0:00:21\n",
      "   ------------------------ --------------- 20.2/32.9 MB 631.8 kB/s eta 0:00:21\n",
      "   ------------------------ --------------- 20.4/32.9 MB 631.8 kB/s eta 0:00:20\n",
      "   ------------------------ --------------- 20.4/32.9 MB 631.8 kB/s eta 0:00:20\n",
      "   ------------------------ --------------- 20.4/32.9 MB 631.8 kB/s eta 0:00:20\n",
      "   ------------------------ --------------- 20.4/32.9 MB 631.8 kB/s eta 0:00:20\n",
      "   ------------------------- -------------- 20.7/32.9 MB 613.0 kB/s eta 0:00:20\n",
      "   ------------------------- -------------- 20.7/32.9 MB 613.0 kB/s eta 0:00:20\n",
      "   ------------------------- -------------- 20.7/32.9 MB 613.0 kB/s eta 0:00:20\n",
      "   ------------------------- -------------- 20.7/32.9 MB 613.0 kB/s eta 0:00:20\n",
      "   ------------------------- -------------- 20.7/32.9 MB 613.0 kB/s eta 0:00:20\n",
      "   ------------------------- -------------- 21.0/32.9 MB 577.3 kB/s eta 0:00:21\n",
      "   ------------------------- -------------- 21.0/32.9 MB 577.3 kB/s eta 0:00:21\n",
      "   ------------------------- -------------- 21.0/32.9 MB 577.3 kB/s eta 0:00:21\n",
      "   ------------------------- -------------- 21.0/32.9 MB 577.3 kB/s eta 0:00:21\n",
      "   ------------------------- -------------- 21.0/32.9 MB 577.3 kB/s eta 0:00:21\n",
      "   ------------------------- -------------- 21.2/32.9 MB 569.5 kB/s eta 0:00:21\n",
      "   ------------------------- -------------- 21.2/32.9 MB 569.5 kB/s eta 0:00:21\n",
      "   -------------------------- ------------- 21.5/32.9 MB 569.2 kB/s eta 0:00:20\n",
      "   -------------------------- ------------- 21.5/32.9 MB 569.2 kB/s eta 0:00:20\n",
      "   -------------------------- ------------- 21.8/32.9 MB 562.8 kB/s eta 0:00:20\n",
      "   -------------------------- ------------- 21.8/32.9 MB 562.8 kB/s eta 0:00:20\n",
      "   -------------------------- ------------- 22.0/32.9 MB 552.2 kB/s eta 0:00:20\n",
      "   --------------------------- ------------ 22.3/32.9 MB 542.0 kB/s eta 0:00:20\n",
      "   --------------------------- ------------ 22.5/32.9 MB 535.3 kB/s eta 0:00:20\n",
      "   --------------------------- ------------ 22.8/32.9 MB 534.7 kB/s eta 0:00:19\n",
      "   ---------------------------- ----------- 23.1/32.9 MB 533.3 kB/s eta 0:00:19\n",
      "   ---------------------------- ----------- 23.6/32.9 MB 535.5 kB/s eta 0:00:18\n",
      "   ----------------------------- ---------- 23.9/32.9 MB 535.3 kB/s eta 0:00:17\n",
      "   ----------------------------- ---------- 24.1/32.9 MB 534.4 kB/s eta 0:00:17\n",
      "   ----------------------------- ---------- 24.4/32.9 MB 534.1 kB/s eta 0:00:16\n",
      "   ------------------------------ --------- 24.6/32.9 MB 533.9 kB/s eta 0:00:16\n",
      "   ------------------------------ --------- 24.9/32.9 MB 507.9 kB/s eta 0:00:16\n",
      "   ------------------------------ --------- 25.4/32.9 MB 506.8 kB/s eta 0:00:15\n",
      "   ------------------------------- -------- 25.7/32.9 MB 499.4 kB/s eta 0:00:15\n",
      "   ------------------------------- -------- 26.0/32.9 MB 489.3 kB/s eta 0:00:15\n",
      "   ------------------------------- -------- 26.0/32.9 MB 489.3 kB/s eta 0:00:15\n",
      "   -------------------------------- ------- 26.5/32.9 MB 489.3 kB/s eta 0:00:14\n",
      "   -------------------------------- ------- 26.5/32.9 MB 489.3 kB/s eta 0:00:14\n",
      "   -------------------------------- ------- 26.5/32.9 MB 489.3 kB/s eta 0:00:14\n",
      "   -------------------------------- ------- 26.7/32.9 MB 481.1 kB/s eta 0:00:13\n",
      "   -------------------------------- ------- 27.0/32.9 MB 486.2 kB/s eta 0:00:13\n",
      "   -------------------------------- ------- 27.0/32.9 MB 486.2 kB/s eta 0:00:13\n",
      "   --------------------------------- ------ 27.3/32.9 MB 490.3 kB/s eta 0:00:12\n",
      "   --------------------------------- ------ 27.5/32.9 MB 503.7 kB/s eta 0:00:11\n",
      "   --------------------------------- ------ 27.5/32.9 MB 503.7 kB/s eta 0:00:11\n",
      "   --------------------------------- ------ 27.8/32.9 MB 504.6 kB/s eta 0:00:11\n",
      "   --------------------------------- ------ 27.8/32.9 MB 504.6 kB/s eta 0:00:11\n",
      "   --------------------------------- ------ 27.8/32.9 MB 504.6 kB/s eta 0:00:11\n",
      "   --------------------------------- ------ 27.8/32.9 MB 504.6 kB/s eta 0:00:11\n",
      "   ---------------------------------- ----- 28.0/32.9 MB 498.6 kB/s eta 0:00:10\n",
      "   ---------------------------------- ----- 28.0/32.9 MB 498.6 kB/s eta 0:00:10\n",
      "   ---------------------------------- ----- 28.3/32.9 MB 483.1 kB/s eta 0:00:10\n",
      "   ---------------------------------- ----- 28.3/32.9 MB 483.1 kB/s eta 0:00:10\n",
      "   ---------------------------------- ----- 28.6/32.9 MB 481.9 kB/s eta 0:00:09\n",
      "   ----------------------------------- ---- 28.8/32.9 MB 480.6 kB/s eta 0:00:09\n",
      "   ----------------------------------- ---- 29.1/32.9 MB 472.8 kB/s eta 0:00:08\n",
      "   ----------------------------------- ---- 29.1/32.9 MB 472.8 kB/s eta 0:00:08\n",
      "   ----------------------------------- ---- 29.4/32.9 MB 480.9 kB/s eta 0:00:08\n",
      "   ----------------------------------- ---- 29.4/32.9 MB 480.9 kB/s eta 0:00:08\n",
      "   ------------------------------------ --- 29.6/32.9 MB 485.7 kB/s eta 0:00:07\n",
      "   ------------------------------------ --- 29.6/32.9 MB 485.7 kB/s eta 0:00:07\n",
      "   ------------------------------------ --- 29.9/32.9 MB 483.4 kB/s eta 0:00:07\n",
      "   ------------------------------------ --- 29.9/32.9 MB 483.4 kB/s eta 0:00:07\n",
      "   ------------------------------------ --- 29.9/32.9 MB 483.4 kB/s eta 0:00:07\n",
      "   ------------------------------------ --- 29.9/32.9 MB 483.4 kB/s eta 0:00:07\n",
      "   ------------------------------------ --- 30.1/32.9 MB 515.2 kB/s eta 0:00:06\n",
      "   ------------------------------------- -- 30.4/32.9 MB 518.0 kB/s eta 0:00:05\n",
      "   ------------------------------------- -- 30.4/32.9 MB 518.0 kB/s eta 0:00:05\n",
      "   ------------------------------------- -- 30.7/32.9 MB 520.1 kB/s eta 0:00:05\n",
      "   ------------------------------------- -- 30.9/32.9 MB 525.2 kB/s eta 0:00:04\n",
      "   ------------------------------------- -- 30.9/32.9 MB 525.2 kB/s eta 0:00:04\n",
      "   ------------------------------------- -- 30.9/32.9 MB 525.2 kB/s eta 0:00:04\n",
      "   ------------------------------------- -- 31.2/32.9 MB 525.7 kB/s eta 0:00:04\n",
      "   ------------------------------------- -- 31.2/32.9 MB 525.7 kB/s eta 0:00:04\n",
      "   ------------------------------------- -- 31.2/32.9 MB 525.7 kB/s eta 0:00:04\n",
      "   -------------------------------------- - 31.5/32.9 MB 521.5 kB/s eta 0:00:03\n",
      "   -------------------------------------- - 31.5/32.9 MB 521.5 kB/s eta 0:00:03\n",
      "   -------------------------------------- - 31.7/32.9 MB 524.3 kB/s eta 0:00:03\n",
      "   -------------------------------------- - 31.7/32.9 MB 524.3 kB/s eta 0:00:03\n",
      "   -------------------------------------- - 32.0/32.9 MB 525.7 kB/s eta 0:00:02\n",
      "   -------------------------------------- - 32.0/32.9 MB 525.7 kB/s eta 0:00:02\n",
      "   ---------------------------------------  32.2/32.9 MB 540.9 kB/s eta 0:00:02\n",
      "   ---------------------------------------  32.2/32.9 MB 540.9 kB/s eta 0:00:02\n",
      "   ---------------------------------------  32.5/32.9 MB 544.1 kB/s eta 0:00:01\n",
      "   ---------------------------------------  32.5/32.9 MB 544.1 kB/s eta 0:00:01\n",
      "   ---------------------------------------  32.8/32.9 MB 545.5 kB/s eta 0:00:01\n",
      "   ---------------------------------------- 32.9/32.9 MB 580.0 kB/s eta 0:00:00\n",
      "Installing collected packages: SpeechRecognition\n",
      "Successfully installed SpeechRecognition-3.14.1\n"
     ]
    }
   ],
   "source": [
    "!pip install SpeechRecognition"
   ]
  },
  {
   "cell_type": "code",
   "execution_count": 44,
   "id": "9e86b3f6-ca4f-47e6-8983-4bed03e94052",
   "metadata": {},
   "outputs": [
    {
     "name": "stdout",
     "output_type": "stream",
     "text": [
      "Collecting PyAudio\n",
      "  Downloading PyAudio-0.2.14-cp312-cp312-win_amd64.whl.metadata (2.7 kB)\n",
      "Downloading PyAudio-0.2.14-cp312-cp312-win_amd64.whl (164 kB)\n",
      "Installing collected packages: PyAudio\n",
      "Successfully installed PyAudio-0.2.14\n"
     ]
    }
   ],
   "source": [
    "!pip install PyAudio"
   ]
  },
  {
   "cell_type": "code",
   "execution_count": null,
   "id": "dc4c7386-4270-4226-b4d0-09b3ce3f0336",
   "metadata": {},
   "outputs": [],
   "source": []
  }
 ],
 "metadata": {
  "kernelspec": {
   "display_name": "Python [conda env:base] *",
   "language": "python",
   "name": "conda-base-py"
  },
  "language_info": {
   "codemirror_mode": {
    "name": "ipython",
    "version": 3
   },
   "file_extension": ".py",
   "mimetype": "text/x-python",
   "name": "python",
   "nbconvert_exporter": "python",
   "pygments_lexer": "ipython3",
   "version": "3.12.7"
  }
 },
 "nbformat": 4,
 "nbformat_minor": 5
}
