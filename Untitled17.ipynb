{
 "cells": [
  {
   "cell_type": "code",
   "execution_count": null,
   "id": "07a8fbdf-9c63-4bdd-b77a-497f411a1d7a",
   "metadata": {},
   "outputs": [],
   "source": [
    "Cloud Computing Overview\n",
    "Cloud computing is the delivery of computing services—such as servers, storage, databases, networking, software, and analytics—over the internet. Instead of owning and maintaining physical infrastructure, users can access and scale resources on demand through cloud providers.\n",
    "\n",
    "Types of Cloud Computing\n",
    "Public Cloud\n",
    "\n",
    "Resources are owned and operated by third-party cloud providers.\n",
    "Examples: Amazon Web Services (AWS), Microsoft Azure, Google Cloud Platform (GCP).\n",
    "Best for: Scalability, cost-efficiency, and businesses with fluctuating workloads.\n",
    "Private Cloud\n",
    "\n",
    "Cloud infrastructure is dedicated to a single organization.\n",
    "Can be hosted on-premises or by a third-party provider.\n",
    "Best for: Security-sensitive businesses (e.g., banking, government).\n",
    "Hybrid Cloud\n",
    "\n",
    "Combines both public and private clouds.\n",
    "Allows data and applications to move between environments.\n",
    "Best for: Businesses needing flexibility, disaster recovery, and optimized costs.\n",
    "Multi-Cloud\n",
    "\n",
    "Uses multiple cloud providers to avoid vendor lock-in.\n",
    "Increases reliability by distributing workloads.\n",
    "Best for: Large enterprises and companies wanting redundancy.\n",
    "Cloud Computing Service Models\n",
    "Infrastructure as a Service (IaaS)\n",
    "\n",
    "Provides virtualized computing resources like servers, storage, and networking.\n",
    "Example: AWS EC2, Microsoft Azure Virtual Machines, Google Compute Engine.\n",
    "Platform as a Service (PaaS)\n",
    "\n",
    "Provides a development platform, including operating systems, databases, and development tools.\n",
    "Example: Google App Engine, Microsoft Azure App Services, AWS Elastic Beanstalk.\n",
    "Software as a Service (SaaS)\n",
    "\n",
    "Delivers software applications over the internet.\n",
    "Example: Gmail, Microsoft Office 365, Dropbox.\n",
    "Function as a Service (FaaS) / Serverless Computing\n",
    "\n",
    "Runs code in response to events without managing infrastructure.\n",
    "Example: AWS Lambda, Google Cloud Functions, Azure Functions.\n",
    "Benefits of Cloud Computing\n",
    "✔️ Scalability – Easily scale resources up or down.\n",
    "✔️ Cost Efficiency – Pay for only what you use.\n",
    "✔️ Security – Cloud providers offer advanced security measures.\n",
    "✔️ Flexibility – Access services from anywhere with an internet connection.\n",
    "✔️ Disaster Recovery – Data backup and recovery options are available."
   ]
  }
 ],
 "metadata": {
  "kernelspec": {
   "display_name": "Python [conda env:base] *",
   "language": "python",
   "name": "conda-base-py"
  },
  "language_info": {
   "codemirror_mode": {
    "name": "ipython",
    "version": 3
   },
   "file_extension": ".py",
   "mimetype": "text/x-python",
   "name": "python",
   "nbconvert_exporter": "python",
   "pygments_lexer": "ipython3",
   "version": "3.12.7"
  }
 },
 "nbformat": 4,
 "nbformat_minor": 5
}
